{
  "nbformat": 4,
  "nbformat_minor": 0,
  "metadata": {
    "colab": {
      "name": "Lineer Regresyon.ipynb",
      "provenance": [],
      "collapsed_sections": []
    },
    "kernelspec": {
      "name": "python3",
      "display_name": "Python 3"
    }
  },
  "cells": [
    {
      "cell_type": "code",
      "metadata": {
        "id": "F6h3jm43TVwW"
      },
      "source": [
        "import pandas as pd\n",
        "import numpy as np\n",
        "import matplotlib.pyplot as plt\n",
        "import seaborn as sns\n",
        "from sklearn.linear_model import LinearRegression"
      ],
      "execution_count": null,
      "outputs": []
    },
    {
      "cell_type": "code",
      "metadata": {
        "id": "WdR99ZuAXSuJ",
        "colab": {
          "base_uri": "https://localhost:8080/",
          "height": 195
        },
        "outputId": "5ed700fa-e7de-4b1c-cdd1-ee65cd864ce9"
      },
      "source": [
        "data = pd.read_csv(\"ev_fiyat_tahmini.csv\",sep=\";\")\n",
        "data.head()"
      ],
      "execution_count": null,
      "outputs": [
        {
          "output_type": "execute_result",
          "data": {
            "text/html": [
              "<div>\n",
              "<style scoped>\n",
              "    .dataframe tbody tr th:only-of-type {\n",
              "        vertical-align: middle;\n",
              "    }\n",
              "\n",
              "    .dataframe tbody tr th {\n",
              "        vertical-align: top;\n",
              "    }\n",
              "\n",
              "    .dataframe thead th {\n",
              "        text-align: right;\n",
              "    }\n",
              "</style>\n",
              "<table border=\"1\" class=\"dataframe\">\n",
              "  <thead>\n",
              "    <tr style=\"text-align: right;\">\n",
              "      <th></th>\n",
              "      <th>index</th>\n",
              "      <th>MetreKare</th>\n",
              "      <th>oda_sayısı</th>\n",
              "      <th>fiyatlar</th>\n",
              "    </tr>\n",
              "  </thead>\n",
              "  <tbody>\n",
              "    <tr>\n",
              "      <th>0</th>\n",
              "      <td>183</td>\n",
              "      <td>145</td>\n",
              "      <td>3</td>\n",
              "      <td>178311</td>\n",
              "    </tr>\n",
              "    <tr>\n",
              "      <th>1</th>\n",
              "      <td>124</td>\n",
              "      <td>115</td>\n",
              "      <td>2</td>\n",
              "      <td>172942</td>\n",
              "    </tr>\n",
              "    <tr>\n",
              "      <th>2</th>\n",
              "      <td>125</td>\n",
              "      <td>120</td>\n",
              "      <td>3</td>\n",
              "      <td>142930</td>\n",
              "    </tr>\n",
              "    <tr>\n",
              "      <th>3</th>\n",
              "      <td>282</td>\n",
              "      <td>180</td>\n",
              "      <td>4</td>\n",
              "      <td>232026</td>\n",
              "    </tr>\n",
              "    <tr>\n",
              "      <th>4</th>\n",
              "      <td>17</td>\n",
              "      <td>65</td>\n",
              "      <td>2</td>\n",
              "      <td>113100</td>\n",
              "    </tr>\n",
              "  </tbody>\n",
              "</table>\n",
              "</div>"
            ],
            "text/plain": [
              "   index  MetreKare  oda_sayısı  fiyatlar\n",
              "0    183        145           3    178311\n",
              "1    124        115           2    172942\n",
              "2    125        120           3    142930\n",
              "3    282        180           4    232026\n",
              "4     17         65           2    113100"
            ]
          },
          "metadata": {
            "tags": []
          },
          "execution_count": 2
        }
      ]
    },
    {
      "cell_type": "code",
      "metadata": {
        "id": "KYOzijl3_UMq",
        "colab": {
          "base_uri": "https://localhost:8080/"
        },
        "outputId": "f26e3823-1bf9-4bad-c4a4-31d5fe9d989e"
      },
      "source": [
        "data.shape"
      ],
      "execution_count": null,
      "outputs": [
        {
          "output_type": "execute_result",
          "data": {
            "text/plain": [
              "(290, 4)"
            ]
          },
          "metadata": {
            "tags": []
          },
          "execution_count": 3
        }
      ]
    },
    {
      "cell_type": "code",
      "metadata": {
        "id": "jsBwNQIgdSYC"
      },
      "source": [
        "x = data['MetreKare']\n",
        "y = data['fiyatlar']"
      ],
      "execution_count": null,
      "outputs": []
    },
    {
      "cell_type": "code",
      "metadata": {
        "id": "0j3v_eWg453u",
        "colab": {
          "base_uri": "https://localhost:8080/",
          "height": 279
        },
        "outputId": "6542afb8-7cb7-45c7-df37-a919558a4d3f"
      },
      "source": [
        "plt.scatter(x,y)\n",
        "plt.xlabel(\"Metrekare\")\n",
        "plt.ylabel(\"Fiyat\")\n",
        "plt.show()"
      ],
      "execution_count": null,
      "outputs": [
        {
          "output_type": "display_data",
          "data": {
            "image/png": "[encoded data removed]",
            "text/plain": [
              "<Figure size 432x288 with 1 Axes>"
            ]
          },
          "metadata": {
            "tags": [],
            "needs_background": "light"
          }
        }
      ]
    },
    {
      "cell_type": "code",
      "metadata": {
        "id": "CAzDQFPVGj-d",
        "colab": {
          "base_uri": "https://localhost:8080/"
        },
        "outputId": "76f4f3b4-e321-4b17-96e0-1c79d7a5e398"
      },
      "source": [
        "print(x.shape)\n",
        "print(y.shape)"
      ],
      "execution_count": null,
      "outputs": [
        {
          "output_type": "stream",
          "text": [
            "<class 'tuple'>\n",
            "<class 'tuple'>\n"
          ],
          "name": "stdout"
        }
      ]
    },
    {
      "cell_type": "code",
      "metadata": {
        "id": "N6IibammI5FR",
        "colab": {
          "base_uri": "https://localhost:8080/"
        },
        "outputId": "ee9b515d-e4c4-46e5-81d9-06b1248d5191"
      },
      "source": [
        "type(x)"
      ],
      "execution_count": null,
      "outputs": [
        {
          "output_type": "execute_result",
          "data": {
            "text/plain": [
              "pandas.core.series.Series"
            ]
          },
          "metadata": {
            "tags": []
          },
          "execution_count": 9
        }
      ]
    },
    {
      "cell_type": "code",
      "metadata": {
        "id": "hHVT_E7o_FFv"
      },
      "source": [
        "x = data['MetreKare'].values.reshape((-1, 1))\n",
        "y = data['fiyatlar'].values.reshape((-1, 1))"
      ],
      "execution_count": null,
      "outputs": []
    },
    {
      "cell_type": "code",
      "metadata": {
        "id": "iM7rGiMPQmn9",
        "colab": {
          "base_uri": "https://localhost:8080/"
        },
        "outputId": "9799d432-1e5d-4259-c0c2-ffdafef093ce"
      },
      "source": [
        "type(x)"
      ],
      "execution_count": null,
      "outputs": [
        {
          "output_type": "execute_result",
          "data": {
            "text/plain": [
              "pandas.core.series.Series"
            ]
          },
          "metadata": {
            "tags": []
          },
          "execution_count": 8
        }
      ]
    },
    {
      "cell_type": "code",
      "metadata": {
        "id": "heV6siAJ5HTy",
        "colab": {
          "base_uri": "https://localhost:8080/"
        },
        "outputId": "05f01349-4ddf-4592-a0c0-f231891e297a"
      },
      "source": [
        "model = LinearRegression()\n",
        "model.fit(x,y)"
      ],
      "execution_count": null,
      "outputs": [
        {
          "output_type": "execute_result",
          "data": {
            "text/plain": [
              "LinearRegression(copy_X=True, fit_intercept=True, n_jobs=None, normalize=False)"
            ]
          },
          "metadata": {
            "tags": []
          },
          "execution_count": 5
        }
      ]
    },
    {
      "cell_type": "code",
      "metadata": {
        "id": "CIp__hJodCql",
        "colab": {
          "base_uri": "https://localhost:8080/",
          "height": 279
        },
        "outputId": "ecb20f11-ab70-4451-c1f7-e06de5109dd2"
      },
      "source": [
        "sns.regplot(x=\"MetreKare\", y=\"fiyatlar\", data=data,line_kws={\"color\": \"red\"});\n"
      ],
      "execution_count": null,
      "outputs": [
        {
          "output_type": "display_data",
          "data": {
            "image/png": "[encoded data removed]",
            "text/plain": [
              "<Figure size 432x288 with 1 Axes>"
            ]
          },
          "metadata": {
            "tags": [],
            "needs_background": "light"
          }
        }
      ]
    },
    {
      "cell_type": "code",
      "metadata": {
        "id": "4TdmhNPeTrhr",
        "colab": {
          "base_uri": "https://localhost:8080/"
        },
        "outputId": "25c3cd9f-4466-4794-be54-60d4fcf35c86"
      },
      "source": [
        "model.predict([[180]])"
      ],
      "execution_count": null,
      "outputs": [
        {
          "output_type": "execute_result",
          "data": {
            "text/plain": [
              "array([[231130.13090943]])"
            ]
          },
          "metadata": {
            "tags": []
          },
          "execution_count": 16
        }
      ]
    },
    {
      "cell_type": "code",
      "metadata": {
        "id": "4rdyg3I8S-M3",
        "colab": {
          "base_uri": "https://localhost:8080/"
        },
        "outputId": "144d69d6-59bc-477e-d9e5-f48922b759ca"
      },
      "source": [
        "model.score(x,y)"
      ],
      "execution_count": null,
      "outputs": [
        {
          "output_type": "execute_result",
          "data": {
            "text/plain": [
              "0.8131235669951359"
            ]
          },
          "metadata": {
            "tags": []
          },
          "execution_count": 19
        }
      ]
    }
  ]
}
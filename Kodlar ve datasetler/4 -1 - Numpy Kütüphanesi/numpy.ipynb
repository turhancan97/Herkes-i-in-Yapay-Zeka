{
  "nbformat": 4,
  "nbformat_minor": 0,
  "metadata": {
    "colab": {
      "name": "numpy.ipynb",
      "provenance": [],
      "collapsed_sections": []
    },
    "kernelspec": {
      "name": "python3",
      "display_name": "Python 3"
    }
  },
  "cells": [
    {
      "cell_type": "code",
      "metadata": {
        "id": "mNOMZSq1oDR1",
        "colab_type": "code",
        "colab": {}
      },
      "source": [
        "import numpy as np"
      ],
      "execution_count": null,
      "outputs": []
    },
    {
      "cell_type": "code",
      "metadata": {
        "id": "PQ2s7VbVpPB4",
        "colab_type": "code",
        "colab": {
          "base_uri": "https://localhost:8080/",
          "height": 34
        },
        "outputId": "5482f174-fc14-4160-ea27-e918ca1c54c3"
      },
      "source": [
        "liste = [1, 2, 3, 4, 5, 6, 7, 8]\n",
        "liste"
      ],
      "execution_count": null,
      "outputs": [
        {
          "output_type": "execute_result",
          "data": {
            "text/plain": [
              "[1, 2, 3, 4, 5, 6, 7, 8]"
            ]
          },
          "metadata": {
            "tags": []
          },
          "execution_count": 4
        }
      ]
    },
    {
      "cell_type": "code",
      "metadata": {
        "id": "wZ7K8bjRu5Pz",
        "colab_type": "code",
        "colab": {
          "base_uri": "https://localhost:8080/",
          "height": 70
        },
        "outputId": "a1eb93d7-f775-483f-e351-656135228d7c"
      },
      "source": [
        "liste2 = np.array( [ (1,2,3,4), (5,6,7,8), (9,10,11,12)] )\n",
        "liste2"
      ],
      "execution_count": null,
      "outputs": [
        {
          "output_type": "execute_result",
          "data": {
            "text/plain": [
              "array([[ 1,  2,  3,  4],\n",
              "       [ 5,  6,  7,  8],\n",
              "       [ 9, 10, 11, 12]])"
            ]
          },
          "metadata": {
            "tags": []
          },
          "execution_count": 5
        }
      ]
    },
    {
      "cell_type": "code",
      "metadata": {
        "id": "36TduN8YxGhf",
        "colab_type": "code",
        "colab": {
          "base_uri": "https://localhost:8080/",
          "height": 52
        },
        "outputId": "28c8bd37-b7b0-4caf-907a-6053c8de4ee6"
      },
      "source": [
        "print(liste2.shape)\n",
        "print(liste2.size)"
      ],
      "execution_count": null,
      "outputs": [
        {
          "output_type": "stream",
          "text": [
            "(3, 4)\n",
            "12\n"
          ],
          "name": "stdout"
        }
      ]
    },
    {
      "cell_type": "code",
      "metadata": {
        "id": "9MJBtly-B_9P",
        "colab_type": "code",
        "colab": {
          "base_uri": "https://localhost:8080/",
          "height": 34
        },
        "outputId": "aa213163-435d-49f8-ec8b-c35bc3e1a73d"
      },
      "source": [
        "liste3 = np.arange(10)\n",
        "liste3"
      ],
      "execution_count": null,
      "outputs": [
        {
          "output_type": "execute_result",
          "data": {
            "text/plain": [
              "array([0, 1, 2, 3, 4, 5, 6, 7, 8, 9])"
            ]
          },
          "metadata": {
            "tags": []
          },
          "execution_count": 7
        }
      ]
    },
    {
      "cell_type": "code",
      "metadata": {
        "id": "mTwupbmMCMzM",
        "colab_type": "code",
        "colab": {
          "base_uri": "https://localhost:8080/",
          "height": 52
        },
        "outputId": "215ee38d-8cec-4c96-e3b0-6464ebe3db16"
      },
      "source": [
        "liste3 = liste3.reshape(2,5)\n",
        "liste3"
      ],
      "execution_count": null,
      "outputs": [
        {
          "output_type": "execute_result",
          "data": {
            "text/plain": [
              "array([[0, 1, 2, 3, 4],\n",
              "       [5, 6, 7, 8, 9]])"
            ]
          },
          "metadata": {
            "tags": []
          },
          "execution_count": 8
        }
      ]
    },
    {
      "cell_type": "code",
      "metadata": {
        "id": "geaJp0QAEaGR",
        "colab_type": "code",
        "colab": {
          "base_uri": "https://localhost:8080/",
          "height": 105
        },
        "outputId": "e75bbcde-d2be-4604-d5ed-6f1af26dbdd4"
      },
      "source": [
        "random_matris = np.random.randint(20,70,15)\n",
        "random_matris = random_matris.reshape(5,3)\n",
        "random_matris"
      ],
      "execution_count": null,
      "outputs": [
        {
          "output_type": "execute_result",
          "data": {
            "text/plain": [
              "array([[34, 29, 56],\n",
              "       [30, 62, 47],\n",
              "       [33, 26, 41],\n",
              "       [66, 22, 21],\n",
              "       [21, 39, 32]])"
            ]
          },
          "metadata": {
            "tags": []
          },
          "execution_count": 9
        }
      ]
    },
    {
      "cell_type": "code",
      "metadata": {
        "id": "lZnrQTUKT42f",
        "colab_type": "code",
        "colab": {
          "base_uri": "https://localhost:8080/",
          "height": 87
        },
        "outputId": "adc48211-4767-4a08-bbc5-e524c8ec87ef"
      },
      "source": [
        "print(\"Aritmetik:\\t\", np.mean(random_matris))\n",
        "print(\"Medyan:\\t\\t\", np.median(random_matris))\n",
        "print(\"Varyans:\\t\", np.var(random_matris))\n",
        "print(\"Standat Sapma:\\t\", np.std(random_matris))"
      ],
      "execution_count": null,
      "outputs": [
        {
          "output_type": "stream",
          "text": [
            "Aritmetik:\t 37.266666666666666\n",
            "Medyan:\t\t 33.0\n",
            "Varyans:\t 197.7955555555555\n",
            "Standat Sapma:\t 14.063980786233872\n"
          ],
          "name": "stdout"
        }
      ]
    }
  ]
}